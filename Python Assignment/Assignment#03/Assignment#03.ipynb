{
 "cells": [
  {
   "cell_type": "code",
   "execution_count": 2,
   "id": "1eca1656",
   "metadata": {},
   "outputs": [
    {
     "name": "stdout",
     "output_type": "stream",
     "text": [
      "Twinkle, twinkle, little star,                                                                                How I wonder what you are!                                                                                  Up above the world so high,                                                                          Like a diamond in the sky.                                                           Twinkle, twinkle, little star,                                                                                How I wonder what you are\n"
     ]
    }
   ],
   "source": [
    "a=(\"Twinkle, twinkle, little star,\");\n",
    "b=(\"                                                                                How I wonder what you are!\");\n",
    "c=(\"                                                                                  Up above the world so high,\")\n",
    "d=(\"                                                                          Like a diamond in the sky.\");\n",
    "e=(\"                                                           Twinkle, twinkle, little star,\");\n",
    "f=(\"                                                                                How I wonder what you are\");\n",
    "print(a+b+c+d+e+f);"
   ]
  },
  {
   "cell_type": "code",
   "execution_count": 3,
   "id": "4197c6f2",
   "metadata": {},
   "outputs": [
    {
     "name": "stdout",
     "output_type": "stream",
     "text": [
      "Python version\n",
      "3.8.8 (default, Apr 13 2021, 15:08:03) [MSC v.1916 64 bit (AMD64)]\n",
      "version info.\n",
      "sys.version_info(major=3, minor=8, micro=8, releaselevel='final', serial=0)\n"
     ]
    }
   ],
   "source": [
    "import sys\n",
    "print(\"Python version\")\n",
    "print (sys.version)\n",
    "print(\"version info.\")\n",
    "print (sys.version_info)"
   ]
  },
  {
   "cell_type": "code",
   "execution_count": 4,
   "id": "288ad4f4",
   "metadata": {},
   "outputs": [
    {
     "name": "stdout",
     "output_type": "stream",
     "text": [
      "Current date and time : \n",
      "2021-10-24 14:23:37\n"
     ]
    }
   ],
   "source": [
    "import datetime\n",
    "now = datetime.datetime.now()\n",
    "print (\"Current date and time : \")\n",
    "print (now.strftime(\"%Y-%m-%d %H:%M:%S\"))"
   ]
  },
  {
   "cell_type": "code",
   "execution_count": 5,
   "id": "910de9ca",
   "metadata": {},
   "outputs": [
    {
     "name": "stdout",
     "output_type": "stream",
     "text": [
      "Input the radius of the circle : 1.1\n",
      "The area of the circle with radius 1.1 is: 3.8013271108436504\n"
     ]
    }
   ],
   "source": [
    "from math import pi \n",
    "r = float(input(\"Input the radius of the circle : \"))\n",
    "print (\"The area of the circle with radius \" + str(r) + \" is: \" + str(pi * r**2))"
   ]
  },
  {
   "cell_type": "code",
   "execution_count": 6,
   "id": "50871777",
   "metadata": {},
   "outputs": [
    {
     "name": "stdout",
     "output_type": "stream",
     "text": [
      "Inout your First Name : Muhammad Ahmed\n",
      "Input your Last Name : Ali\n",
      "Hello Ali Muhammad Ahmed\n"
     ]
    }
   ],
   "source": [
    "fname = input(\"Inout your First Name : \")\n",
    "lname = input(\"Input your Last Name : \")\n",
    "print (\"Hello \" + lname + \" \" + fname)"
   ]
  },
  {
   "cell_type": "code",
   "execution_count": 7,
   "id": "8df6a689",
   "metadata": {},
   "outputs": [
    {
     "name": "stdout",
     "output_type": "stream",
     "text": [
      "enter first number: 5\n",
      "enter second number: 7\n",
      "sum: 12\n"
     ]
    }
   ],
   "source": [
    "a = int(input(\"enter first number: \"))\n",
    "b = int(input(\"enter second number: \"))\n",
    "\n",
    "sum = a + b\n",
    "\n",
    "print(\"sum:\", sum)"
   ]
  },
  {
   "cell_type": "code",
   "execution_count": 8,
   "id": "8ce44d02",
   "metadata": {},
   "outputs": [
    {
     "name": "stdout",
     "output_type": "stream",
     "text": [
      "A+\n"
     ]
    }
   ],
   "source": [
    "eng = 90;\n",
    "isl = 85;\n",
    "math = 80;\n",
    "sci = 95;\n",
    "urdu = 70;\n",
    "total = 500;\n",
    "percent = (eng + isl + math + sci + urdu)/total*100;\n",
    "if percent <100 and percent >= 80:\n",
    "    print(\"A+\");\n",
    "elif percent <80 and percent >= 70:\n",
    "    print(\"A\");\n",
    "elif percent <70 and percent >= 60:\n",
    "    print(\"B\");\n",
    "elif percent <60 and percent >= 50:\n",
    "    print(\"C\");\n",
    "elif percent <50 and percent >= 40:\n",
    "    print(\"D\");\n",
    "elif percent <40 and percent >= 30:\n",
    "    print(\"E\");\n",
    "elif percent <33:\n",
    "    print(\"F\");\n",
    "elif percent <0 and percent >= 100:\n",
    "    print(\"you didnot write correct percent\");\n",
    "else:\n",
    "    print(\"fail\")"
   ]
  },
  {
   "cell_type": "code",
   "execution_count": 9,
   "id": "108f621a",
   "metadata": {},
   "outputs": [
    {
     "name": "stdout",
     "output_type": "stream",
     "text": [
      "Enter a number: 5\n",
      "This is an odd number.\n"
     ]
    }
   ],
   "source": [
    "num = int(input(\"Enter a number: \"))\n",
    "mod = num % 2\n",
    "if mod > 0:\n",
    "    print(\"This is an odd number.\")\n",
    "else:\n",
    "    print(\"This is an even number.\")"
   ]
  },
  {
   "cell_type": "code",
   "execution_count": 12,
   "id": "c6550c53",
   "metadata": {},
   "outputs": [
    {
     "name": "stdout",
     "output_type": "stream",
     "text": [
      "The length of list is:  4\n"
     ]
    }
   ],
   "source": [
    "# Python program to demonstrate working \n",
    "# of len() \n",
    "\n",
    "a = [] \n",
    "\n",
    "a.append(\"Hello\") \n",
    "\n",
    "a.append(\"Geeks\") \n",
    "\n",
    "a.append(\"For\") \n",
    "\n",
    "a.append(\"Geeks\") \n",
    "\n",
    "print(\"The length of list is: \", len(a))"
   ]
  },
  {
   "cell_type": "code",
   "execution_count": 13,
   "id": "566c3f8f",
   "metadata": {},
   "outputs": [
    {
     "name": "stdout",
     "output_type": "stream",
     "text": [
      "20\n"
     ]
    }
   ],
   "source": [
    "def sum(numbers):\n",
    "    total = 0\n",
    "    for x in numbers:\n",
    "        total += x\n",
    "    return total\n",
    "print(sum((8, 2, 3, 0, 7)))"
   ]
  },
  {
   "cell_type": "code",
   "execution_count": 14,
   "id": "70767e3b",
   "metadata": {},
   "outputs": [
    {
     "name": "stdout",
     "output_type": "stream",
     "text": [
      "2\n"
     ]
    }
   ],
   "source": [
    "def max_num_in_list( list ):\n",
    "    max = list[ 0 ]\n",
    "    for a in list:\n",
    "        if a > max:\n",
    "            max = a\n",
    "    return max\n",
    "print(max_num_in_list([1, 2, -8, 0]))"
   ]
  },
  {
   "cell_type": "code",
   "execution_count": 16,
   "id": "c0319bb1",
   "metadata": {},
   "outputs": [
    {
     "name": "stdout",
     "output_type": "stream",
     "text": [
      "1\n",
      "1\n",
      "2\n",
      "3\n"
     ]
    }
   ],
   "source": [
    "a = [1, 1, 2, 3, 5, 8, 13, 21, 34, 55, 89]\n",
    "for i in a:\n",
    "    if i < 5:\n",
    "        print(i)"
   ]
  },
  {
   "cell_type": "code",
   "execution_count": null,
   "id": "edc99d61",
   "metadata": {},
   "outputs": [],
   "source": []
  }
 ],
 "metadata": {
  "kernelspec": {
   "display_name": "Python 3",
   "language": "python",
   "name": "python3"
  },
  "language_info": {
   "codemirror_mode": {
    "name": "ipython",
    "version": 3
   },
   "file_extension": ".py",
   "mimetype": "text/x-python",
   "name": "python",
   "nbconvert_exporter": "python",
   "pygments_lexer": "ipython3",
   "version": "3.8.8"
  }
 },
 "nbformat": 4,
 "nbformat_minor": 5
}
